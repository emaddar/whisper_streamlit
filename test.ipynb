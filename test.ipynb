{
 "cells": [
  {
   "attachments": {},
   "cell_type": "markdown",
   "metadata": {},
   "source": [
    "# Python code that aims to extract text from a YouTube video"
   ]
  },
  {
   "cell_type": "code",
   "execution_count": null,
   "metadata": {},
   "outputs": [],
   "source": [
    "# !pip install -U openai-whisper\n",
    "# !sudo apt install ffmpeg\n",
    "# !pip install git+https://github.com/openai/whisper.git \n",
    "# !pip install setuptools-rust\n"
   ]
  },
  {
   "cell_type": "code",
   "execution_count": 1,
   "metadata": {},
   "outputs": [
    {
     "name": "stdout",
     "output_type": "stream",
     "text": [
      "There are not enough matching directories to remove.\n"
     ]
    }
   ],
   "source": [
    "import os\n",
    "import shutil\n",
    "\n",
    "# Get the current directory\n",
    "current_directory = os.getcwd()\n",
    "\n",
    "# Get a list of all directories in the current directory\n",
    "directories = [name for name in os.listdir(current_directory) if os.path.isdir(os.path.join(current_directory, name))]\n",
    "\n",
    "# Filter directories that start with \"My_Folder_\"\n",
    "matching_directories = [name for name in directories if name.startswith(\"Folder_\")]\n",
    "\n",
    "# Check if there are more than 3 matching directories\n",
    "if len(matching_directories) > 3:\n",
    "    # Remove the matching directories\n",
    "    for directory in matching_directories:\n",
    "        directory_path = os.path.join(current_directory, directory)\n",
    "        shutil.rmtree(directory_path)\n",
    "        print(f\"Removed directory: {directory_path}\")\n",
    "else:\n",
    "    print(\"There are not enough matching directories to remove.\")\n"
   ]
  },
  {
   "attachments": {},
   "cell_type": "markdown",
   "metadata": {},
   "source": [
    "### Create a new folder with a name corresponding to the current hour, and inside this folder, create three subfolders named \"mp4,\" \"mp3,\" and \"text.\""
   ]
  },
  {
   "cell_type": "code",
   "execution_count": 2,
   "metadata": {},
   "outputs": [],
   "source": [
    "import os\n",
    "from datetime import datetime\n",
    "\n",
    "# Get the current date and time\n",
    "now = datetime.now()\n",
    "\n",
    "# Create a new folder with the current hour\n",
    "current_folder = f\"Folder_{now.strftime('%Y%m%d_%H%M%S')}\"\n",
    "os.makedirs(current_folder)\n",
    "\n",
    "# Create the subdirectories within the current folder\n",
    "mp4_directory = os.path.join(current_folder, 'media', 'mp4')\n",
    "mp3_directory = os.path.join(current_folder, 'media', 'mp3')\n",
    "txt_directory = os.path.join(current_folder, 'media', 'txt')\n",
    "\n",
    "# Create the subdirectories\n",
    "os.makedirs(mp4_directory)\n",
    "os.makedirs(mp3_directory)\n",
    "os.makedirs(txt_directory)"
   ]
  },
  {
   "cell_type": "code",
   "execution_count": 3,
   "metadata": {},
   "outputs": [],
   "source": [
    "# import os\n",
    "\n",
    "# # Specify the paths of the directories to delete files from\n",
    "# mp4_directory = 'medias/mp4'\n",
    "# mp3_directory = 'medias/mp3'\n",
    "# txt_directory = 'medias/txt'\n",
    "\n",
    "# # Function to delete all files in a directory\n",
    "# def delete_files_in_directory(directory):\n",
    "#     file_list = os.listdir(directory)\n",
    "#     for file_name in file_list:\n",
    "#         file_path = os.path.join(directory, file_name)\n",
    "#         if os.path.isfile(file_path):\n",
    "#             os.remove(file_path)\n",
    "\n",
    "# # Delete all files in the mp4 directory\n",
    "# delete_files_in_directory(mp4_directory)\n",
    "\n",
    "# # Delete all files in the mp3 directory\n",
    "# delete_files_in_directory(mp3_directory)\n",
    "\n",
    "# # Delete all files in the txt directory\n",
    "# delete_files_in_directory(txt_directory)\n"
   ]
  },
  {
   "attachments": {},
   "cell_type": "markdown",
   "metadata": {},
   "source": [
    "### Download a YouTube video from any provided link and save it in the 'mp4' directory of the newly created folder."
   ]
  },
  {
   "cell_type": "code",
   "execution_count": 4,
   "metadata": {},
   "outputs": [
    {
     "data": {
      "text/plain": [
       "'/home/emad/Documents/whisper_streamlit/Folder_20230618_163240/media/mp4/Steve Jobs Stay Hungry Stay Foolish.mp4'"
      ]
     },
     "execution_count": 4,
     "metadata": {},
     "output_type": "execute_result"
    }
   ],
   "source": [
    "from pytube import YouTube\n",
    "import os\n",
    "\n",
    "\n",
    "\n",
    "# # Specify the directory path\n",
    "# mp4_path = 'medias/mp4'\n",
    "\n",
    "# Specify the YouTube video URL\n",
    "video_url = 'https://www.youtube.com/watch?v=8Zx04h24uBs&ab_channel=LexClips'\n",
    "\n",
    "# Create a YouTube object\n",
    "yt = YouTube(video_url)\n",
    "\n",
    "# Get the lowest resolution video stream\n",
    "stream = yt.streams.get_lowest_resolution()\n",
    "\n",
    "# Download the video\n",
    "stream.download(mp4_directory)"
   ]
  },
  {
   "attachments": {},
   "cell_type": "markdown",
   "metadata": {},
   "source": [
    "### Rename the downloaded video to 'video.mp4'."
   ]
  },
  {
   "cell_type": "code",
   "execution_count": 5,
   "metadata": {},
   "outputs": [],
   "source": [
    "# Get a list of all files in the directory\n",
    "files = os.listdir(mp4_directory)\n",
    "\n",
    "# Iterate over each file and rename it\n",
    "for filename in files:\n",
    "    # Construct the current file path\n",
    "    current_path = os.path.join(mp4_directory, filename)\n",
    "    \n",
    "    # Split the current filename and extension\n",
    "    name, extension = os.path.splitext(filename)\n",
    "    \n",
    "    # Construct the new filename\n",
    "    new_name = 'video' + extension\n",
    "    \n",
    "    # Construct the new file path\n",
    "    new_path = os.path.join(mp4_directory, new_name)\n",
    "    \n",
    "    # Rename the file\n",
    "    os.rename(current_path, new_path)"
   ]
  },
  {
   "attachments": {},
   "cell_type": "markdown",
   "metadata": {},
   "source": [
    "### Convert the video file named 'video.mp4' to an MP3 audio file and save it in the 'mp3/my_audio.mp3' directory."
   ]
  },
  {
   "cell_type": "code",
   "execution_count": 6,
   "metadata": {},
   "outputs": [
    {
     "name": "stdout",
     "output_type": "stream",
     "text": [
      "MoviePy - Writing audio in Folder_20230618_163240/media/mp3/my_audio.mp3\n"
     ]
    },
    {
     "name": "stderr",
     "output_type": "stream",
     "text": [
      "                                                                      "
     ]
    },
    {
     "name": "stdout",
     "output_type": "stream",
     "text": [
      "MoviePy - Done.\n"
     ]
    },
    {
     "name": "stderr",
     "output_type": "stream",
     "text": [
      "\r"
     ]
    }
   ],
   "source": [
    "from moviepy.editor import VideoFileClip\n",
    "\n",
    "# # Specify the output path for the converted MP3 file\n",
    "# mp3_path = 'medias/mp3/my_audio.mp3'\n",
    "\n",
    "# Load the video file\n",
    "video = VideoFileClip(f\"{mp4_directory}/video.mp4\")\n",
    "\n",
    "# Extract the audio from the video file\n",
    "audio = video.audio\n",
    "\n",
    "# Save the audio as an MP3 file\n",
    "audio.write_audiofile(f\"{mp3_directory}/my_audio.mp3\", codec='mp3')\n",
    "\n",
    "# Close the video and audio files\n",
    "video.close()\n",
    "audio.close()"
   ]
  },
  {
   "attachments": {},
   "cell_type": "markdown",
   "metadata": {},
   "source": [
    "### transcribe the audio file using the tiny whisper model. The resulting transcribed text is stored in the 'result' variable."
   ]
  },
  {
   "cell_type": "code",
   "execution_count": 7,
   "metadata": {},
   "outputs": [
    {
     "name": "stdout",
     "output_type": "stream",
     "text": [
      " When I was young, there was an amazing publication called The Whole Earth Catalog, which was one of the Bibles of my generation. It was created by a fellow named Stuart Brandt, not far from here in Menlo Park, and he brought it to life with his poetic touch. This was in the late 60s before personal computers and desktop publishing, so it was all made with typewriters, scissors, and Polarite cameras. It was sort of like Google and paperback form 35 years before Google came along. It was idealistic, overflowing with neat tools, and great notions. Stuart and his team put out several issues of the whole Earth Catalog, and then when it had run its course, they put out a final issue. It was the mid 1970s and I was your age. On the back cover of their final issue was a photograph of an early morning country road. The kind you might find yourself hitchhiking on if you were so adventurous. Beneath it were the words, stay hungry, stay foolish. It was their farewell message as they signed off. Stay hungry, stay foolish. And I have always wished that for myself. And now, as you graduate to begin a new, I wish that for you. Stay hungry, stay foolish. Thank you all very much.\n"
     ]
    }
   ],
   "source": [
    "import whisper\n",
    "\n",
    "model = whisper.load_model(\"tiny\")\n",
    "result = model.transcribe(f\"{mp3_directory}/my_audio.mp3\")\n",
    "print(result[\"text\"])"
   ]
  },
  {
   "attachments": {},
   "cell_type": "markdown",
   "metadata": {},
   "source": [
    "### Save the text to the file 'output.txt' located in the 'text' directory within the previously created folder."
   ]
  },
  {
   "cell_type": "code",
   "execution_count": 8,
   "metadata": {},
   "outputs": [
    {
     "name": "stdout",
     "output_type": "stream",
     "text": [
      "Data saved to Folder_20230618_163240/media/txt/output.txt\n"
     ]
    }
   ],
   "source": [
    "txt_path = f\"{txt_directory}/output.txt\" \n",
    "\n",
    "# Open the file in write mode\n",
    "with open(txt_path, 'w') as file:\n",
    "    # Write the data to the file\n",
    "    file.write(result['text'])\n",
    "\n",
    "print(\"Data saved to\", txt_path)"
   ]
  },
  {
   "cell_type": "code",
   "execution_count": null,
   "metadata": {},
   "outputs": [],
   "source": []
  }
 ],
 "metadata": {
  "kernelspec": {
   "display_name": "env_whisper",
   "language": "python",
   "name": "python3"
  },
  "language_info": {
   "codemirror_mode": {
    "name": "ipython",
    "version": 3
   },
   "file_extension": ".py",
   "mimetype": "text/x-python",
   "name": "python",
   "nbconvert_exporter": "python",
   "pygments_lexer": "ipython3",
   "version": "3.9.12"
  },
  "orig_nbformat": 4
 },
 "nbformat": 4,
 "nbformat_minor": 2
}
