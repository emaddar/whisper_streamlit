{
 "cells": [
  {
   "cell_type": "code",
   "execution_count": 1,
   "metadata": {},
   "outputs": [
    {
     "name": "stdout",
     "output_type": "stream",
     "text": [
      "\n",
      "1st statement :\n",
      "Overall sentiment dictionary is :  {'neg': 0.165, 'neu': 0.588, 'pos': 0.247, 'compound': 0.5267}\n",
      "sentence was rated as  16.5 % Negative\n",
      "sentence was rated as  58.8 % Neutral\n",
      "sentence was rated as  24.7 % Positive\n",
      "Sentence Overall Rated As Positive\n",
      "\n",
      "2nd Statement :\n",
      "Overall sentiment dictionary is :  {'neg': 0.0, 'neu': 1.0, 'pos': 0.0, 'compound': 0.0}\n",
      "sentence was rated as  0.0 % Negative\n",
      "sentence was rated as  100.0 % Neutral\n",
      "sentence was rated as  0.0 % Positive\n",
      "Sentence Overall Rated As Neutral\n",
      "\n",
      "3rd Statement :\n",
      "Overall sentiment dictionary is :  {'neg': 0.524, 'neu': 0.476, 'pos': 0.0, 'compound': -0.5106}\n",
      "sentence was rated as  52.400000000000006 % Negative\n",
      "sentence was rated as  47.599999999999994 % Neutral\n",
      "sentence was rated as  0.0 % Positive\n",
      "Sentence Overall Rated As Negative\n"
     ]
    }
   ],
   "source": [
    "# import SentimentIntensityAnalyzer class\n",
    "# from vaderSentiment.vaderSentiment module.\n",
    "from vaderSentiment.vaderSentiment import SentimentIntensityAnalyzer\n",
    " \n",
    "# function to print sentiments\n",
    "# of the sentence.\n",
    "def sentiment_scores(sentence):\n",
    " \n",
    "    # Create a SentimentIntensityAnalyzer object.\n",
    "    sid_obj = SentimentIntensityAnalyzer()\n",
    " \n",
    "    # polarity_scores method of SentimentIntensityAnalyzer\n",
    "    # object gives a sentiment dictionary.\n",
    "    # which contains pos, neg, neu, and compound scores.\n",
    "    sentiment_dict = sid_obj.polarity_scores(sentence)\n",
    "     \n",
    "    print(\"Overall sentiment dictionary is : \", sentiment_dict)\n",
    "    print(\"sentence was rated as \", sentiment_dict['neg']*100, \"% Negative\")\n",
    "    print(\"sentence was rated as \", sentiment_dict['neu']*100, \"% Neutral\")\n",
    "    print(\"sentence was rated as \", sentiment_dict['pos']*100, \"% Positive\")\n",
    " \n",
    "    print(\"Sentence Overall Rated As\", end = \" \")\n",
    " \n",
    "    # decide sentiment as positive, negative and neutral\n",
    "    if sentiment_dict['compound'] >= 0.05 :\n",
    "        print(\"Positive\")\n",
    " \n",
    "    elif sentiment_dict['compound'] <= - 0.05 :\n",
    "        print(\"Negative\")\n",
    " \n",
    "    else :\n",
    "        print(\"Neutral\")\n",
    " \n",
    " \n",
    "   \n",
    "# Driver code\n",
    "if __name__ == \"__main__\" :\n",
    " \n",
    "    print(\"\\n1st statement :\")\n",
    "    sentence = \"Geeks For Geeks is the best portal for \\\n",
    "                the computer science engineering students.\"\n",
    " \n",
    "    # function calling\n",
    "    sentiment_scores(sentence)\n",
    " \n",
    "    print(\"\\n2nd Statement :\")\n",
    "    sentence = \"study is going on as usual\"\n",
    "    sentiment_scores(sentence)\n",
    " \n",
    "    print(\"\\n3rd Statement :\")\n",
    "    sentence = \"I am angry today.\"\n",
    "    sentiment_scores(sentence)"
   ]
  },
  {
   "cell_type": "code",
   "execution_count": 2,
   "metadata": {},
   "outputs": [],
   "source": [
    "from vaderSentiment.vaderSentiment import SentimentIntensityAnalyzer\n",
    "file_contents = [\"  When I was young, there was an amazing publication called The Whole Earth Catalog, which was one of the Bibles of my generation. It was created by a fellow named Stuart Brand, not far from here in Menlo Park, and he brought it to life with his poetic touch. This was in the late 60s before personal computers and desktop publishing, so it was all made with typewriters, scissors, and Polarite cameras. It was sort of like Google and paperback form 35 years before Google came along. It was idealistic overflowing with neat tools and great notions. Stuart and his team put out several issues of the whole Earth Catalog, and then when it had run its course, they put out a final issue. It was the mid-1970s and I was your age. On the back cover of their final issue was a photograph of an early morning country road. The kind you might find yourself hitchhiking on if you were so adventurous. Beneath it were the words, stay hungry, stay foolish. It was their farewell message as they signed off. Stay hungry, stay foolish. And I have always wished that for myself. And now, as you graduate to begin a new, I wish that for you. Stay hungry, stay foolish. Thank you all very much. \"]"
   ]
  },
  {
   "cell_type": "code",
   "execution_count": 11,
   "metadata": {},
   "outputs": [
    {
     "data": {
      "text/plain": [
       "0.973"
      ]
     },
     "execution_count": 11,
     "metadata": {},
     "output_type": "execute_result"
    }
   ],
   "source": [
    "analyser = SentimentIntensityAnalyzer()\n",
    "score = analyser.polarity_scores(file_contents)\n",
    "polarity_vader = score['compound']\n",
    "polarity_vader"
   ]
  },
  {
   "cell_type": "code",
   "execution_count": 39,
   "metadata": {},
   "outputs": [
    {
     "data": {
      "image/png": "[encoded data removed]",
      "text/plain": [
       "<Figure size 1500x200 with 1 Axes>"
      ]
     },
     "metadata": {},
     "output_type": "display_data"
    }
   ],
   "source": [
    "import matplotlib.pyplot as plt\n",
    "x = 0.4\n",
    "# Create figure and axis objects with a larger figure size\n",
    "fig, ax = plt.subplots(figsize=(15, 2))\n",
    "\n",
    "# Plot horizontal line\n",
    "ax.axhline(y=0, color='black', linestyle='-', linewidth=5)\n",
    "\n",
    "if x<0:        \n",
    "    # Plot red point\n",
    "    ax.plot(x, 0, marker='o', markersize=15, color='red')\n",
    "else:\n",
    "    ax.plot(x, 0, marker='o', markersize=15, color='blue')\n",
    "\n",
    "# Set plot limits\n",
    "ax.set_xlim(-1, 1)\n",
    "\n",
    "# Set plot labels\n",
    "ax.set_xlabel('Vader Score')\n",
    "\n",
    "# Hide the y-axis\n",
    "ax.yaxis.set_visible(False)\n",
    "\n",
    "# Display the plot\n",
    "plt.show()\n"
   ]
  },
  {
   "cell_type": "code",
   "execution_count": 70,
   "metadata": {},
   "outputs": [
    {
     "data": {
      "image/png": "[encoded data removed]",
      "text/plain": [
       "<Figure size 1500x200 with 1 Axes>"
      ]
     },
     "metadata": {},
     "output_type": "display_data"
    }
   ],
   "source": [
    "import matplotlib.pyplot as plt\n",
    "\n",
    "x = 0.4\n",
    "\n",
    "# Create figure and axis objects with a larger figure size\n",
    "fig, ax = plt.subplots(figsize=(15, 2))\n",
    "\n",
    "# Plot horizontal lines\n",
    "ax.hlines(y=0, xmin=-1, xmax=0, color='r', linestyle='-', linewidth=5)\n",
    "ax.hlines(y=0, xmin=0, xmax=1, color='b', linestyle='-', linewidth=5)\n",
    "\n",
    "if x < 0:\n",
    "    # Plot red point\n",
    "    ax.plot(x, 0, marker='o', markersize=15, color='red')\n",
    "else:\n",
    "    # Plot blue point\n",
    "    ax.plot(x, 0, marker='o', markersize=15, color='blue')\n",
    "\n",
    "# Set plot limits\n",
    "ax.set_xlim(-1, 1)\n",
    "\n",
    "# Set plot labels\n",
    "ax.set_xlabel('Vader Score')\n",
    "ax.set_ylabel('Negative')\n",
    "\n",
    "# Hide the y-axis\n",
    "ax.yaxis.set_visible(False)\n",
    "\n",
    "# Set the text aligned to the right\n",
    "ax.text(1, 0.05, 'Positive',\n",
    "        horizontalalignment='right',\n",
    "        verticalalignment='bottom',\n",
    "        transform=ax.transAxes)\n",
    "\n",
    "\n",
    "ax.text(0.06, 0.05, 'Negative',\n",
    "        horizontalalignment='right',\n",
    "        verticalalignment='bottom',\n",
    "        transform=ax.transAxes)\n",
    "\n",
    "\n",
    "ax.text(0.52, 0.05, 'Neutral',\n",
    "        horizontalalignment='right',\n",
    "        verticalalignment='bottom',\n",
    "        transform=ax.transAxes)\n",
    "\n",
    "# Display the plot\n",
    "plt.show()\n"
   ]
  },
  {
   "cell_type": "code",
   "execution_count": null,
   "metadata": {},
   "outputs": [],
   "source": []
  }
 ],
 "metadata": {
  "kernelspec": {
   "display_name": "myenv",
   "language": "python",
   "name": "python3"
  },
  "language_info": {
   "codemirror_mode": {
    "name": "ipython",
    "version": 3
   },
   "file_extension": ".py",
   "mimetype": "text/x-python",
   "name": "python",
   "nbconvert_exporter": "python",
   "pygments_lexer": "ipython3",
   "version": "3.9.12"
  },
  "orig_nbformat": 4
 },
 "nbformat": 4,
 "nbformat_minor": 2
}
